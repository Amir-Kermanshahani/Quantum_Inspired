{
 "cells": [
  {
   "cell_type": "markdown",
   "id": "2b39503d",
   "metadata": {},
   "source": [
    "Importing ZZFeatureMap"
   ]
  },
  {
   "cell_type": "code",
   "execution_count": 13,
   "id": "dd1b3fa6",
   "metadata": {},
   "outputs": [
    {
     "data": {
      "text/html": [
       "<pre style=\"word-wrap: normal;white-space: pre;background: #fff0;line-height: 1.1;font-family: &quot;Courier New&quot;,Courier,monospace\">     ┌───┐┌─────────────┐                                          ┌───┐»\n",
       "q_0: ┤ H ├┤ P(2.0*x[0]) ├──■────────────────────────────────────■──┤ H ├»\n",
       "     ├───┤├─────────────┤┌─┴─┐┌──────────────────────────────┐┌─┴─┐├───┤»\n",
       "q_1: ┤ H ├┤ P(2.0*x[1]) ├┤ X ├┤ P(2.0*(π - x[0])*(π - x[1])) ├┤ X ├┤ H ├»\n",
       "     └───┘└─────────────┘└───┘└──────────────────────────────┘└───┘└───┘»\n",
       "«     ┌─────────────┐                                          \n",
       "«q_0: ┤ P(2.0*x[0]) ├──■────────────────────────────────────■──\n",
       "«     ├─────────────┤┌─┴─┐┌──────────────────────────────┐┌─┴─┐\n",
       "«q_1: ┤ P(2.0*x[1]) ├┤ X ├┤ P(2.0*(π - x[0])*(π - x[1])) ├┤ X ├\n",
       "«     └─────────────┘└───┘└──────────────────────────────┘└───┘</pre>"
      ],
      "text/plain": [
       "     ┌───┐┌─────────────┐                                          ┌───┐»\n",
       "q_0: ┤ H ├┤ P(2.0*x[0]) ├──■────────────────────────────────────■──┤ H ├»\n",
       "     ├───┤├─────────────┤┌─┴─┐┌──────────────────────────────┐┌─┴─┐├───┤»\n",
       "q_1: ┤ H ├┤ P(2.0*x[1]) ├┤ X ├┤ P(2.0*(π - x[0])*(π - x[1])) ├┤ X ├┤ H ├»\n",
       "     └───┘└─────────────┘└───┘└──────────────────────────────┘└───┘└───┘»\n",
       "«     ┌─────────────┐                                          \n",
       "«q_0: ┤ P(2.0*x[0]) ├──■────────────────────────────────────■──\n",
       "«     ├─────────────┤┌─┴─┐┌──────────────────────────────┐┌─┴─┐\n",
       "«q_1: ┤ P(2.0*x[1]) ├┤ X ├┤ P(2.0*(π - x[0])*(π - x[1])) ├┤ X ├\n",
       "«     └─────────────┘└───┘└──────────────────────────────┘└───┘"
      ]
     },
     "execution_count": 13,
     "metadata": {},
     "output_type": "execute_result"
    }
   ],
   "source": [
    "from qiskit.circuit.library import ZZFeatureMap\n",
    "\n",
    "# 2 features, depth 2\n",
    "map_zz = ZZFeatureMap(feature_dimension=2, reps=2)\n",
    "map_zz.decompose().draw()"
   ]
  },
  {
   "cell_type": "markdown",
   "id": "09edd866",
   "metadata": {},
   "source": [
    "Creating the dataset"
   ]
  },
  {
   "cell_type": "code",
   "execution_count": 14,
   "id": "df778f66",
   "metadata": {},
   "outputs": [],
   "source": [
    "from qiskit.utils import algorithm_globals\n",
    "algorithm_globals.random_seed = 12345\n",
    "\n",
    "from qiskit_machine_learning.datasets import ad_hoc_data\n",
    "train_data, train_labels, test_data, test_labels, sample_total = (\n",
    "    ad_hoc_data(training_size=20, test_size=5, n=2, gap=0.3,\n",
    "                include_sample_total=True, one_hot=False))"
   ]
  },
  {
   "cell_type": "markdown",
   "id": "c35aa965",
   "metadata": {},
   "source": [
    "Defining the function for calculating the kernel"
   ]
  },
  {
   "cell_type": "code",
   "execution_count": 15,
   "id": "349a4b72",
   "metadata": {},
   "outputs": [],
   "source": [
    "from qiskit import opflow\n",
    "def calculate_kernel(feature_map, x_data, y_data=None):\n",
    "    \"\"\"\n",
    "        Calculates  kernel matrix from provided feature map and\n",
    "        dataset(s), x & (y). If y isn't given, self inner product\n",
    "        of x is calculated.\n",
    "        No error checking is performed, feature map and datasets\n",
    "        assumed to have the same dimension\n",
    "    \"\"\"\n",
    "    if y_data is None:\n",
    "        y_data = x_data\n",
    "    # Use Operator Flow to create a list of feature map circuits,\n",
    "    # parameterized by each data point\n",
    "    x_circuits = opflow.CircuitStateFn(feature_map).bind_parameters(\n",
    "        dict(zip(feature_map.parameters, np.transpose(x_data).tolist()))\n",
    "        )\n",
    "    y_circuits = opflow.CircuitStateFn(feature_map).bind_parameters(\n",
    "        dict(zip(feature_map.parameters, np.transpose(y_data).tolist()))\n",
    "        )\n",
    "    # Compute the square of the conjugate inner product of the feature\n",
    "    # map circuits: the kernel matrix\n",
    "    kernel = np.abs(\n",
    "        (~y_circuits.to_matrix_op() @ x_circuits.to_matrix_op()).eval()\n",
    "    )**2\n",
    "    return kernel"
   ]
  },
  {
   "cell_type": "markdown",
   "id": "77dfcb40",
   "metadata": {},
   "source": [
    "Calculating the training and testing quantum kernel matrices"
   ]
  },
  {
   "cell_type": "code",
   "execution_count": 16,
   "id": "150a59ea",
   "metadata": {
    "scrolled": true
   },
   "outputs": [
    {
     "data": {
      "image/png": "[encoded data removed]",
      "text/plain": [
       "<Figure size 720x360 with 2 Axes>"
      ]
     },
     "metadata": {
      "needs_background": "light"
     },
     "output_type": "display_data"
    }
   ],
   "source": [
    "import numpy as np\n",
    "import matplotlib.pyplot as plt\n",
    "\n",
    "adhoc_feature_map = ZZFeatureMap(feature_dimension=2, reps=2)\n",
    "train_kernel = calculate_kernel(adhoc_feature_map, train_data)\n",
    "test_kernel = calculate_kernel(adhoc_feature_map, train_data, test_data)\n",
    "# plot analytical matrices\n",
    "fig, axs = plt.subplots(1, 2, figsize=(10,5))\n",
    "axs[0].imshow(np.asmatrix(train_kernel), interpolation='nearest',\n",
    "              origin='upper')\n",
    "axs[0].set_title(\"Analytical Train Matrix\")\n",
    "axs[1].imshow(np.asmatrix(test_kernel), interpolation='nearest',\n",
    "              origin='upper', cmap='Blues')\n",
    "axs[1].set_title(\"Analytical Test Matrix\")\n",
    "plt.show()"
   ]
  },
  {
   "cell_type": "markdown",
   "id": "36f4223a",
   "metadata": {},
   "source": [
    "Using in the scikit-learn svc algorithm"
   ]
  },
  {
   "cell_type": "code",
   "execution_count": 17,
   "id": "7a952e3c",
   "metadata": {
    "scrolled": true
   },
   "outputs": [
    {
     "name": "stdout",
     "output_type": "stream",
     "text": [
      "Number of support vectors for each class: [ 9 10]\n",
      "Indices of support vectors: [ 3  6  7  8  9 11 12 17 19 21 22 24 25 26 27 31 33 38 39]\n"
     ]
    }
   ],
   "source": [
    "from sklearn.svm import SVC\n",
    "# train scikit-learn svm model\n",
    "model = SVC(kernel='precomputed')\n",
    "model.fit(train_kernel, train_labels)\n",
    "print(\"Number of support vectors for each class:\",model.n_support_)\n",
    "print(\"Indices of support vectors:\", model.support_)"
   ]
  },
  {
   "cell_type": "markdown",
   "id": "312e5462",
   "metadata": {},
   "source": [
    "Plotting support vectors"
   ]
  },
  {
   "cell_type": "code",
   "execution_count": 18,
   "id": "9a433a5a",
   "metadata": {
    "scrolled": true
   },
   "outputs": [
    {
     "data": {
      "image/png": "[encoded data removed]",
      "text/plain": [
       "<Figure size 360x360 with 1 Axes>"
      ]
     },
     "metadata": {
      "needs_background": "light"
     },
     "output_type": "display_data"
    }
   ],
   "source": [
    "plt.figure(figsize=(5, 5))\n",
    "plt.ylim(0, 2 * np.pi)\n",
    "plt.xlim(0, 2 * np.pi)\n",
    "plt.scatter(train_data[model.support_[0:model.n_support_[0] ], 0],\n",
    "            train_data[model.support_[0:model.n_support_[0] ], 1],\n",
    "            marker='s', label=\"A support\")\n",
    "plt.scatter(train_data[model.support_[model.n_support_[0]:], 0],\n",
    "            train_data[model.support_[model.n_support_[0]:], 1],\n",
    "            marker='o', c='C3', label=\"B support\")\n",
    "plt.legend(loc='upper left', frameon=False)\n",
    "plt.show()"
   ]
  },
  {
   "cell_type": "markdown",
   "id": "5d3d094e",
   "metadata": {},
   "source": [
    "Testing SVM model; We see that since the training and testing data points were generated using the same feature map used in the quantum kernel support vector classification algorithm, we are able to classify the testing data points perfectly."
   ]
  },
  {
   "cell_type": "code",
   "execution_count": 19,
   "id": "20f36abb",
   "metadata": {},
   "outputs": [
    {
     "data": {
      "text/plain": [
       "1.0"
      ]
     },
     "execution_count": 19,
     "metadata": {},
     "output_type": "execute_result"
    }
   ],
   "source": [
    "model.score(test_kernel, test_labels)"
   ]
  }
 ],
 "metadata": {
  "kernelspec": {
   "display_name": "Python 3 (ipykernel)",
   "language": "python",
   "name": "python3"
  },
  "language_info": {
   "codemirror_mode": {
    "name": "ipython",
    "version": 3
   },
   "file_extension": ".py",
   "mimetype": "text/x-python",
   "name": "python",
   "nbconvert_exporter": "python",
   "pygments_lexer": "ipython3",
   "version": "3.9.12"
  }
 },
 "nbformat": 4,
 "nbformat_minor": 5
}
