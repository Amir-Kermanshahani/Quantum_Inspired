{
 "cells": [
  {
   "cell_type": "markdown",
   "id": "79183215",
   "metadata": {},
   "source": [
    "Importing ZZFeatureMap for feature maping"
   ]
  },
  {
   "cell_type": "code",
   "execution_count": 7,
   "id": "e5eef6cc",
   "metadata": {},
   "outputs": [
    {
     "data": {
      "text/html": [
       "<pre style=\"word-wrap: normal;white-space: pre;background: #fff0;line-height: 1.1;font-family: &quot;Courier New&quot;,Courier,monospace\">     ┌───┐┌─────────────┐                                               »\n",
       "q_0: ┤ H ├┤ P(2.0*x[0]) ├──■────────────────────────────────────■────■──»\n",
       "     ├───┤├─────────────┤┌─┴─┐┌──────────────────────────────┐┌─┴─┐  │  »\n",
       "q_1: ┤ H ├┤ P(2.0*x[1]) ├┤ X ├┤ P(2.0*(π - x[0])*(π - x[1])) ├┤ X ├──┼──»\n",
       "     ├───┤├─────────────┤└───┘└──────────────────────────────┘└───┘┌─┴─┐»\n",
       "q_2: ┤ H ├┤ P(2.0*x[2]) ├──────────────────────────────────────────┤ X ├»\n",
       "     └───┘└─────────────┘                                          └───┘»\n",
       "«                                               »\n",
       "«q_0: ──────────────────────────────────■───────»\n",
       "«                                       │       »\n",
       "«q_1: ──────────────────────────────────┼────■──»\n",
       "«     ┌──────────────────────────────┐┌─┴─┐┌─┴─┐»\n",
       "«q_2: ┤ P(2.0*(π - x[0])*(π - x[2])) ├┤ X ├┤ X ├»\n",
       "«     └──────────────────────────────┘└───┘└───┘»\n",
       "«                                          \n",
       "«q_0: ─────────────────────────────────────\n",
       "«                                          \n",
       "«q_1: ──────────────────────────────────■──\n",
       "«     ┌──────────────────────────────┐┌─┴─┐\n",
       "«q_2: ┤ P(2.0*(π - x[1])*(π - x[2])) ├┤ X ├\n",
       "«     └──────────────────────────────┘└───┘</pre>"
      ],
      "text/plain": [
       "     ┌───┐┌─────────────┐                                               »\n",
       "q_0: ┤ H ├┤ P(2.0*x[0]) ├──■────────────────────────────────────■────■──»\n",
       "     ├───┤├─────────────┤┌─┴─┐┌──────────────────────────────┐┌─┴─┐  │  »\n",
       "q_1: ┤ H ├┤ P(2.0*x[1]) ├┤ X ├┤ P(2.0*(π - x[0])*(π - x[1])) ├┤ X ├──┼──»\n",
       "     ├───┤├─────────────┤└───┘└──────────────────────────────┘└───┘┌─┴─┐»\n",
       "q_2: ┤ H ├┤ P(2.0*x[2]) ├──────────────────────────────────────────┤ X ├»\n",
       "     └───┘└─────────────┘                                          └───┘»\n",
       "«                                               »\n",
       "«q_0: ──────────────────────────────────■───────»\n",
       "«                                       │       »\n",
       "«q_1: ──────────────────────────────────┼────■──»\n",
       "«     ┌──────────────────────────────┐┌─┴─┐┌─┴─┐»\n",
       "«q_2: ┤ P(2.0*(π - x[0])*(π - x[2])) ├┤ X ├┤ X ├»\n",
       "«     └──────────────────────────────┘└───┘└───┘»\n",
       "«                                          \n",
       "«q_0: ─────────────────────────────────────\n",
       "«                                          \n",
       "«q_1: ──────────────────────────────────■──\n",
       "«     ┌──────────────────────────────┐┌─┴─┐\n",
       "«q_2: ┤ P(2.0*(π - x[1])*(π - x[2])) ├┤ X ├\n",
       "«     └──────────────────────────────┘└───┘"
      ]
     },
     "execution_count": 7,
     "metadata": {},
     "output_type": "execute_result"
    }
   ],
   "source": [
    "from qiskit.circuit.library import ZZFeatureMap\n",
    "# 3 features, depth 1\n",
    "map_zz = ZZFeatureMap(feature_dimension=3, reps=1)\n",
    "map_zz.decompose().draw()"
   ]
  },
  {
   "cell_type": "markdown",
   "id": "b10154ca",
   "metadata": {},
   "source": [
    "Creating dataset"
   ]
  },
  {
   "cell_type": "code",
   "execution_count": 8,
   "id": "90c2c7f8",
   "metadata": {},
   "outputs": [],
   "source": [
    "from qiskit.utils import algorithm_globals\n",
    "algorithm_globals.random_seed = 12345\n",
    "\n",
    "from qiskit_machine_learning.datasets import ad_hoc_data\n",
    "train_data, train_labels, test_data, test_labels, sample_total = (\n",
    "    ad_hoc_data(training_size=20, test_size=5, n=2, gap=0.3,\n",
    "                include_sample_total=True, one_hot=False))"
   ]
  },
  {
   "cell_type": "markdown",
   "id": "4271fd24",
   "metadata": {},
   "source": [
    "Plotting data and class boundaries"
   ]
  },
  {
   "cell_type": "code",
   "execution_count": 9,
   "id": "84137e13",
   "metadata": {},
   "outputs": [
    {
     "data": {
      "image/png": "[encoded data removed]",
      "text/plain": [
       "<Figure size 1080x360 with 3 Axes>"
      ]
     },
     "metadata": {
      "needs_background": "light"
     },
     "output_type": "display_data"
    }
   ],
   "source": [
    "fig = plt.figure(figsize=(15, 5))\n",
    "axdata = fig.add_subplot(131)\n",
    "axdata.set_title(\"Data\")\n",
    "axdata.set_ylim(0, 2 * np.pi)\n",
    "axdata.set_xlim(0, 2 * np.pi)\n",
    "plt.scatter(train_data[np.where(train_labels[:] == 0), 0],\n",
    "            train_data[np.where(train_labels[:] == 0), 1],\n",
    "            marker='s', facecolors='w', edgecolors='C0',\n",
    "            label=\"A train\")\n",
    "plt.scatter(train_data[np.where(train_labels[:] == 1), 0],\n",
    "            train_data[np.where(train_labels[:] == 1), 1],\n",
    "            marker='o', facecolors='w', edgecolors='C3',\n",
    "            label=\"B train\")\n",
    "plt.scatter(test_data[np.where(test_labels[:] == 0), 0],\n",
    "            test_data[np.where(test_labels[:] == 0), 1],\n",
    "            marker='s', facecolors='C0', label=\"A test\")\n",
    "plt.scatter(test_data[np.where(test_labels[:] == 1), 0],\n",
    "            test_data[np.where(test_labels[:] == 1), 1],\n",
    "            marker='o', facecolors='C3', label=\"B test\")\n",
    "plt.legend()\n",
    "\n",
    "from matplotlib.colors import ListedColormap\n",
    "cmap = ListedColormap([\"C3\",\"w\",\"C0\"])\n",
    "axmap = fig.add_subplot(132)\n",
    "axmap.set_title(\"Class Boundaries\")\n",
    "axmap.set_ylim(0, 2 * np.pi)\n",
    "axmap.set_xlim(0, 2 * np.pi)\n",
    "axmap.imshow(np.asmatrix(sample_total).T,\n",
    "             interpolation='nearest',\n",
    "             origin='lower', cmap=cmap,\n",
    "             extent=[0, 2 * np.pi, 0, 2 * np.pi])\n",
    "axboth = fig.add_subplot(133)\n",
    "axboth.set_title(\"Data overlaid on Class Boundaries\")\n",
    "axboth.set_ylim(0, 2 * np.pi)\n",
    "axboth.set_xlim(0, 2 * np.pi)\n",
    "axboth.imshow(np.asmatrix(sample_total).T, interpolation='nearest',\n",
    "              origin='lower', cmap=cmap,\n",
    "              extent=[0, 2 * np.pi, 0, 2 * np.pi])\n",
    "axboth.scatter(train_data[np.where(train_labels[:] == 0), 0],\n",
    "               train_data[np.where(train_labels[:] == 0), 1],\n",
    "               marker='s', facecolors='w', edgecolors='C0', label=\"A\")\n",
    "axboth.scatter(train_data[np.where(train_labels[:] == 1), 0],\n",
    "               train_data[np.where(train_labels[:] == 1), 1],\n",
    "               marker='o', facecolors='w', edgecolors='C3', label=\"B\")\n",
    "axboth.scatter(test_data[np.where(test_labels[:] == 0), 0],\n",
    "               test_data[np.where(test_labels[:] == 0), 1],\n",
    "               marker='s', facecolors='C0', edgecolors='w',\n",
    "               label=\"A test\")\n",
    "axboth.scatter(test_data[np.where(test_labels[:] == 1), 0],\n",
    "               test_data[np.where(test_labels[:] == 1), 1],\n",
    "               marker='o', facecolors='C3', edgecolors='w',\n",
    "               label=\"B test\")\n",
    "plt.show()"
   ]
  }
 ],
 "metadata": {
  "kernelspec": {
   "display_name": "Python 3 (ipykernel)",
   "language": "python",
   "name": "python3"
  },
  "language_info": {
   "codemirror_mode": {
    "name": "ipython",
    "version": 3
   },
   "file_extension": ".py",
   "mimetype": "text/x-python",
   "name": "python",
   "nbconvert_exporter": "python",
   "pygments_lexer": "ipython3",
   "version": "3.9.12"
  }
 },
 "nbformat": 4,
 "nbformat_minor": 5
}
