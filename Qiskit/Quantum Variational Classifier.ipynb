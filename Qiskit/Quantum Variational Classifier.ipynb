{
 "cells": [
  {
   "cell_type": "markdown",
   "id": "4e0abd4c",
   "metadata": {},
   "source": [
    "1-We create 20 training data points and 5 testing data points of 2 features from each class."
   ]
  },
  {
   "cell_type": "code",
   "execution_count": 1,
   "id": "d0878ef6",
   "metadata": {},
   "outputs": [],
   "source": [
    "from qiskit.utils import algorithm_globals\n",
    "algorithm_globals.random_seed = 3142\n",
    "\n",
    "import numpy as np\n",
    "np.random.seed(algorithm_globals.random_seed)\n",
    "\n",
    "from qiskit_machine_learning.datasets import ad_hoc_data\n",
    "TRAIN_DATA, TRAIN_LABELS, TEST_DATA, TEST_LABELS = (\n",
    "    ad_hoc_data(training_size=20,\n",
    "                test_size=5,\n",
    "                n=2,\n",
    "                gap=0.3,\n",
    "                one_hot=False))"
   ]
  },
  {
   "cell_type": "markdown",
   "id": "17c5a6c1",
   "metadata": {},
   "source": [
    "2-We prepare the classification circuit, using the Qiskit ZZFeatureMap as the data encoding circuit, and the Qiskit TwoLocal circuit with  and  rotations and controlled-phase gates,"
   ]
  },
  {
   "cell_type": "code",
   "execution_count": 2,
   "id": "4eee0ecc",
   "metadata": {},
   "outputs": [
    {
     "data": {
      "text/html": [
       "<pre style=\"word-wrap: normal;white-space: pre;background: #fff0;line-height: 1.1;font-family: &quot;Courier New&quot;,Courier,monospace\">        ┌───┐┌─────────────┐                                          ┌───┐»\n",
       "   q_0: ┤ H ├┤ P(2.0*x[0]) ├──■────────────────────────────────────■──┤ H ├»\n",
       "        ├───┤├─────────────┤┌─┴─┐┌──────────────────────────────┐┌─┴─┐├───┤»\n",
       "   q_1: ┤ H ├┤ P(2.0*x[1]) ├┤ X ├┤ P(2.0*(π - x[0])*(π - x[1])) ├┤ X ├┤ H ├»\n",
       "        └───┘└─────────────┘└───┘└──────────────────────────────┘└───┘└───┘»\n",
       "meas: 2/═══════════════════════════════════════════════════════════════════»\n",
       "                                                                           »\n",
       "«        ┌─────────────┐                                          ┌──────────┐»\n",
       "«   q_0: ┤ P(2.0*x[0]) ├──■────────────────────────────────────■──┤ Ry(θ[0]) ├»\n",
       "«        ├─────────────┤┌─┴─┐┌──────────────────────────────┐┌─┴─┐├──────────┤»\n",
       "«   q_1: ┤ P(2.0*x[1]) ├┤ X ├┤ P(2.0*(π - x[0])*(π - x[1])) ├┤ X ├┤ Ry(θ[1]) ├»\n",
       "«        └─────────────┘└───┘└──────────────────────────────┘└───┘└──────────┘»\n",
       "«meas: 2/═════════════════════════════════════════════════════════════════════»\n",
       "«                                                                             »\n",
       "«        ┌──────────┐   ┌──────────┐┌──────────┐   ┌──────────┐┌───────────┐ ░ »\n",
       "«   q_0: ┤ Rz(θ[2]) ├─■─┤ Ry(θ[4]) ├┤ Rz(θ[6]) ├─■─┤ Ry(θ[8]) ├┤ Rz(θ[10]) ├─░─»\n",
       "«        ├──────────┤ │ ├──────────┤├──────────┤ │ ├──────────┤├───────────┤ ░ »\n",
       "«   q_1: ┤ Rz(θ[3]) ├─■─┤ Ry(θ[5]) ├┤ Rz(θ[7]) ├─■─┤ Ry(θ[9]) ├┤ Rz(θ[11]) ├─░─»\n",
       "«        └──────────┘   └──────────┘└──────────┘   └──────────┘└───────────┘ ░ »\n",
       "«meas: 2/══════════════════════════════════════════════════════════════════════»\n",
       "«                                                                              »\n",
       "«        ┌─┐   \n",
       "«   q_0: ┤M├───\n",
       "«        └╥┘┌─┐\n",
       "«   q_1: ─╫─┤M├\n",
       "«         ║ └╥┘\n",
       "«meas: 2/═╩══╩═\n",
       "«         0  1 </pre>"
      ],
      "text/plain": [
       "        ┌───┐┌─────────────┐                                          ┌───┐»\n",
       "   q_0: ┤ H ├┤ P(2.0*x[0]) ├──■────────────────────────────────────■──┤ H ├»\n",
       "        ├───┤├─────────────┤┌─┴─┐┌──────────────────────────────┐┌─┴─┐├───┤»\n",
       "   q_1: ┤ H ├┤ P(2.0*x[1]) ├┤ X ├┤ P(2.0*(π - x[0])*(π - x[1])) ├┤ X ├┤ H ├»\n",
       "        └───┘└─────────────┘└───┘└──────────────────────────────┘└───┘└───┘»\n",
       "meas: 2/═══════════════════════════════════════════════════════════════════»\n",
       "                                                                           »\n",
       "«        ┌─────────────┐                                          ┌──────────┐»\n",
       "«   q_0: ┤ P(2.0*x[0]) ├──■────────────────────────────────────■──┤ Ry(θ[0]) ├»\n",
       "«        ├─────────────┤┌─┴─┐┌──────────────────────────────┐┌─┴─┐├──────────┤»\n",
       "«   q_1: ┤ P(2.0*x[1]) ├┤ X ├┤ P(2.0*(π - x[0])*(π - x[1])) ├┤ X ├┤ Ry(θ[1]) ├»\n",
       "«        └─────────────┘└───┘└──────────────────────────────┘└───┘└──────────┘»\n",
       "«meas: 2/═════════════════════════════════════════════════════════════════════»\n",
       "«                                                                             »\n",
       "«        ┌──────────┐   ┌──────────┐┌──────────┐   ┌──────────┐┌───────────┐ ░ »\n",
       "«   q_0: ┤ Rz(θ[2]) ├─■─┤ Ry(θ[4]) ├┤ Rz(θ[6]) ├─■─┤ Ry(θ[8]) ├┤ Rz(θ[10]) ├─░─»\n",
       "«        ├──────────┤ │ ├──────────┤├──────────┤ │ ├──────────┤├───────────┤ ░ »\n",
       "«   q_1: ┤ Rz(θ[3]) ├─■─┤ Ry(θ[5]) ├┤ Rz(θ[7]) ├─■─┤ Ry(θ[9]) ├┤ Rz(θ[11]) ├─░─»\n",
       "«        └──────────┘   └──────────┘└──────────┘   └──────────┘└───────────┘ ░ »\n",
       "«meas: 2/══════════════════════════════════════════════════════════════════════»\n",
       "«                                                                              »\n",
       "«        ┌─┐   \n",
       "«   q_0: ┤M├───\n",
       "«        └╥┘┌─┐\n",
       "«   q_1: ─╫─┤M├\n",
       "«         ║ └╥┘\n",
       "«meas: 2/═╩══╩═\n",
       "«         0  1 "
      ]
     },
     "execution_count": 2,
     "metadata": {},
     "output_type": "execute_result"
    }
   ],
   "source": [
    "from qiskit.circuit.library import ZZFeatureMap, TwoLocal\n",
    "FEATURE_MAP = ZZFeatureMap(feature_dimension=2, reps=2)\n",
    "VAR_FORM = TwoLocal(2, ['ry', 'rz'], 'cz', reps=2)\n",
    "\n",
    "AD_HOC_CIRCUIT = FEATURE_MAP.compose(VAR_FORM)\n",
    "AD_HOC_CIRCUIT.measure_all()\n",
    "AD_HOC_CIRCUIT.decompose().draw()"
   ]
  },
  {
   "cell_type": "markdown",
   "id": "f7078e18",
   "metadata": {},
   "source": [
    "3-We create a function that associates the data to the feature map and the variational parameters to the variational circuit. This is to ensure that the right parameters in the circuit are associated with the right quantities."
   ]
  },
  {
   "cell_type": "code",
   "execution_count": 3,
   "id": "0ab91d48",
   "metadata": {},
   "outputs": [],
   "source": [
    "def circuit_instance(data, variational):\n",
    "    \"\"\"Assigns parameter values to `AD_HOC_CIRCUIT`.\n",
    "    Args:\n",
    "        data (list): Data values for the feature map\n",
    "        variational (list): Parameter values for `VAR_FORM`\n",
    "    Returns:\n",
    "        QuantumCircuit: `AD_HOC_CIRCUIT` with parameters assigned\n",
    "    \"\"\"\n",
    "    parameters = {}\n",
    "    for i, p in enumerate(FEATURE_MAP.ordered_parameters):\n",
    "        parameters[p] = data[i]\n",
    "    for i, p in enumerate(VAR_FORM.ordered_parameters):\n",
    "        parameters[p] = variational[i]\n",
    "    return AD_HOC_CIRCUIT.assign_parameters(parameters)"
   ]
  },
  {
   "cell_type": "markdown",
   "id": "780d0e3f",
   "metadata": {},
   "source": [
    "4-We create a class assignment function to calculate the parity of the given bitstring. If the parity is even, it returns a 1 label, and if the parity is odd it returns a 0 label"
   ]
  },
  {
   "cell_type": "code",
   "execution_count": 4,
   "id": "600c6b93",
   "metadata": {},
   "outputs": [],
   "source": [
    "def parity(bitstring):\n",
    "    \"\"\"Returns 1 if parity of `bitstring` is even, otherwise 0.\"\"\"\n",
    "    hamming_weight = sum(int(k) for k in list(bitstring))\n",
    "    return (hamming_weight+1) % 2"
   ]
  },
  {
   "cell_type": "markdown",
   "id": "58551103",
   "metadata": {},
   "source": [
    "5-We create a function that returns the probability distribution over the label classes, given experimental counts from running the quantum circuit multiple times."
   ]
  },
  {
   "cell_type": "code",
   "execution_count": 5,
   "id": "bcccb760",
   "metadata": {},
   "outputs": [],
   "source": [
    "def label_probability(results):\n",
    "    \"\"\"Converts a dict of bitstrings and their counts,\n",
    "    to parities and their counts\"\"\"\n",
    "    shots = sum(results.values())\n",
    "    probabilities = {0: 0, 1: 0}\n",
    "    for bitstring, counts in results.items():\n",
    "        label = parity(bitstring)\n",
    "        probabilities[label] += counts / shots\n",
    "    return probabilities"
   ]
  },
  {
   "cell_type": "markdown",
   "id": "e11892d1",
   "metadata": {},
   "source": [
    "6-We create a function that classifies our data. It takes in data and parameters. For every data point in the dataset, we assign the parameters to the feature map and the parameters to the variational circuit. We then evolve our system and store the quantum circuit, so as to run the circuits at once at the end. We measure each circuit and return the probabilities based on the bit string and class labels."
   ]
  },
  {
   "cell_type": "code",
   "execution_count": 6,
   "id": "860f99a9",
   "metadata": {},
   "outputs": [],
   "source": [
    "from qiskit import BasicAer, execute\n",
    "\n",
    "def classification_probability(data, variational):\n",
    "    \"\"\"Classify data points using given parameters.\n",
    "    Args:\n",
    "        data (list): Set of data points to classify\n",
    "        variational (list): Parameters for `VAR_FORM`\n",
    "    Returns:\n",
    "        list[dict]: Probability of circuit classifying\n",
    "                    each data point as 0 or 1.\n",
    "    \"\"\"\n",
    "    circuits = [circuit_instance(d, variational) for d in data]\n",
    "    backend = BasicAer.get_backend('qasm_simulator')\n",
    "    results = execute(circuits, backend).result()\n",
    "    classification = [\n",
    "        label_probability(results.get_counts(c)) for c in circuits]\n",
    "    return classification"
   ]
  },
  {
   "cell_type": "markdown",
   "id": "af2e5f62",
   "metadata": {},
   "source": [
    "7-For training, we create the loss and cost functions."
   ]
  },
  {
   "cell_type": "code",
   "execution_count": 7,
   "id": "050fdb7a",
   "metadata": {},
   "outputs": [],
   "source": [
    "def cross_entropy_loss(classification, expected):\n",
    "    \"\"\"Calculate accuracy of predictions using cross entropy loss.\n",
    "    Args:\n",
    "        classification (dict): Dict where keys are possible classes,\n",
    "                               and values are the probability our\n",
    "                               circuit chooses that class.\n",
    "        expected (int): Correct classification of the data point.\n",
    "\n",
    "    Returns:\n",
    "        float: Cross entropy loss\n",
    "    \"\"\"\n",
    "    p = classification.get(expected)  # Prob. of correct classification\n",
    "    return -np.log(p + 1e-10)\n",
    "\n",
    "def cost_function(data, labels, variational):\n",
    "    \"\"\"Evaluates performance of our circuit with `variational`\n",
    "    parameters on `data`.\n",
    "\n",
    "    Args:\n",
    "        data (list): List of data points to classify\n",
    "        labels (list): List of correct labels for each data point\n",
    "        variational (list): Parameters to use in circuit\n",
    "\n",
    "    Returns:\n",
    "        float: Cost (metric of performance)\n",
    "    \"\"\"\n",
    "    classifications = classification_probability(data, variational)\n",
    "    cost = 0\n",
    "    for i, classification in enumerate(classifications):\n",
    "        cost += cross_entropy_loss(classification, labels[i])\n",
    "    cost /= len(data)\n",
    "    return cost"
   ]
  },
  {
   "cell_type": "markdown",
   "id": "4046d809",
   "metadata": {},
   "source": [
    "8-We set up our classical optimizer, using SPSA, initialize our variational circuit parameters for reproducibility, and optimize our cost function modifying the variational circuit parameters, using our 40 training data points. The optimization will take a while to run."
   ]
  },
  {
   "cell_type": "code",
   "execution_count": 10,
   "id": "98cf93b1",
   "metadata": {},
   "outputs": [
    {
     "name": "stderr",
     "output_type": "stream",
     "text": [
      "C:\\Users\\USER\\AppData\\Local\\Temp\\ipykernel_6168\\3623910615.py:31: DeprecationWarning: The SPSA.optimize method is deprecated as of Qiskit Terra 0.21.0 and will be removed no sooner than 3 months after the release date. Instead, use SPSA.minimize as a replacement, which supports the same arguments but follows the interface of scipy.optimize and returns a complete result object containing additional information.\n",
      "  opt_var, opt_value, _ = optimizer.optimize(len(initial_point),\n"
     ]
    },
    {
     "data": {
      "image/png": "[encoded data removed]",
      "text/plain": [
       "<Figure size 432x288 with 1 Axes>"
      ]
     },
     "metadata": {
      "needs_background": "light"
     },
     "output_type": "display_data"
    }
   ],
   "source": [
    "class OptimizerLog:\n",
    "    \"\"\"Log to store optimizer's intermediate results\"\"\"\n",
    "    def __init__(self):\n",
    "        self.evaluations = []\n",
    "        self.parameters = []\n",
    "        self.costs = []\n",
    "    def update(self, evaluation, parameter, cost, _stepsize, _accept):\n",
    "        \"\"\"Save intermediate results. Optimizer passes five values\n",
    "        but we ignore the last two.\"\"\"\n",
    "        self.evaluations.append(evaluation)\n",
    "        self.parameters.append(parameter)\n",
    "        self.costs.append(cost)\n",
    "\n",
    "# Set up the optimization\n",
    "from qiskit.algorithms.optimizers import SPSA\n",
    "log = OptimizerLog()\n",
    "optimizer = SPSA(maxiter=100, callback=log.update)\n",
    "\n",
    "#initial_point = np.random.random(VAR_FORM.num_parameters)\n",
    "initial_point = np.array([3.28559355, 5.48514978, 5.13099949,\n",
    "                          0.88372228, 4.08885928, 2.45568528,\n",
    "                          4.92364593, 5.59032015, 3.66837805,\n",
    "                          4.84632313, 3.60713748, 2.43546])\n",
    "\n",
    "def objective_function(variational):\n",
    "    \"\"\"Cost function of circuit parameters on training data.\n",
    "    The optimizer will attempt to minimize this.\"\"\"\n",
    "    return cost_function(TRAIN_DATA, TRAIN_LABELS, variational)\n",
    "\n",
    "# Run the optimization\n",
    "opt_var, opt_value, _ = optimizer.optimize(len(initial_point),\n",
    "                                           objective_function,\n",
    "                                           initial_point=initial_point)\n",
    "\n",
    "import matplotlib.pyplot as plt\n",
    "fig = plt.figure()\n",
    "plt.plot(log.evaluations, log.costs)\n",
    "plt.xlabel('Steps')\n",
    "plt.ylabel('Cost')\n",
    "plt.show()"
   ]
  },
  {
   "cell_type": "markdown",
   "id": "f2f19abf",
   "metadata": {},
   "source": [
    "9-We implement a function to score our variational quantum classifier, using the classification function we created earlier, and use it to test our trained classifier on our 10 test data points."
   ]
  },
  {
   "cell_type": "code",
   "execution_count": 11,
   "id": "de7d5dd3",
   "metadata": {},
   "outputs": [
    {
     "data": {
      "text/plain": [
       "1.0"
      ]
     },
     "execution_count": 11,
     "metadata": {},
     "output_type": "execute_result"
    }
   ],
   "source": [
    "def test_classifier(data, labels, variational):\n",
    "    \"\"\"Gets classifier's most likely predictions and accuracy of those\n",
    "    predictions.\n",
    "\n",
    "    Args:\n",
    "        data (list): List of data points to classify\n",
    "        labels (list): List of correct labels for each data point\n",
    "        variational (list): List of parameter values for classifier\n",
    "\n",
    "    Returns:\n",
    "        float: Average accuracy of classifier over `data`\n",
    "        list: Classifier's label predictions for each data point\n",
    "    \"\"\"\n",
    "    probability = classification_probability(data, variational)\n",
    "    predictions = [0 if p[0] >= p[1] else 1 for p in probability]\n",
    "    accuracy = 0\n",
    "    for i, prediction in enumerate(predictions):\n",
    "        if prediction == labels[i]:\n",
    "            accuracy += 1\n",
    "    accuracy /= len(labels)\n",
    "    return accuracy, predictions\n",
    "\n",
    "accuracy, predictions = test_classifier(TEST_DATA, TEST_LABELS, opt_var)\n",
    "accuracy"
   ]
  },
  {
   "cell_type": "code",
   "execution_count": 12,
   "id": "3172ccf4",
   "metadata": {},
   "outputs": [
    {
     "data": {
      "image/png": "[encoded data removed]",
      "text/plain": [
       "<Figure size 648x432 with 1 Axes>"
      ]
     },
     "metadata": {
      "needs_background": "light"
     },
     "output_type": "display_data"
    }
   ],
   "source": [
    "from matplotlib.lines import Line2D\n",
    "plt.figure(figsize=(9, 6))\n",
    "\n",
    "for feature, label in zip(TRAIN_DATA, TRAIN_LABELS):\n",
    "    COLOR = 'C0' if label == 0 else 'C1'\n",
    "    plt.scatter(feature[0], feature[1],\n",
    "                marker='o', s=100, color=COLOR)\n",
    "\n",
    "for feature, label, pred in zip(TEST_DATA, TEST_LABELS, predictions):\n",
    "    COLOR = 'C0' if pred == 0 else 'C1'\n",
    "    plt.scatter(feature[0], feature[1],\n",
    "                marker='s', s=100, color=COLOR)\n",
    "    if label != pred:  # mark wrongly classified\n",
    "        plt.scatter(feature[0], feature[1], marker='o', s=500,\n",
    "                    linewidths=2.5, facecolor='none', edgecolor='C3')\n",
    "\n",
    "legend_elements = [\n",
    "    Line2D([0], [0], marker='o', c='w', mfc='C0', label='A', ms=10),\n",
    "    Line2D([0], [0], marker='o', c='w', mfc='C0', label='B', ms=10),\n",
    "    Line2D([0], [0], marker='s', c='w', mfc='C1', label='predict A',\n",
    "           ms=10),\n",
    "    Line2D([0], [0], marker='s', c='w', mfc='C0', label='predict B',\n",
    "           ms=10),\n",
    "    Line2D([0], [0], marker='o', c='w', mfc='none', mec='C3',\n",
    "           label='wrongly classified', mew=2, ms=15)\n",
    "]\n",
    "\n",
    "plt.legend(handles=legend_elements, bbox_to_anchor=(1, 1),\n",
    "           loc='upper left')\n",
    "\n",
    "plt.title('Training & Test Data')\n",
    "plt.xlabel('x')\n",
    "plt.ylabel('y')\n",
    "plt.show()"
   ]
  },
  {
   "cell_type": "markdown",
   "id": "bd7b2c25",
   "metadata": {},
   "source": [
    "We see that the performance of the trained classifier is not great on the test data. The training optimization probably needed more time to train, or found a local minimum, rather than the global minimum."
   ]
  }
 ],
 "metadata": {
  "kernelspec": {
   "display_name": "Python 3 (ipykernel)",
   "language": "python",
   "name": "python3"
  },
  "language_info": {
   "codemirror_mode": {
    "name": "ipython",
    "version": 3
   },
   "file_extension": ".py",
   "mimetype": "text/x-python",
   "name": "python",
   "nbconvert_exporter": "python",
   "pygments_lexer": "ipython3",
   "version": "3.9.12"
  }
 },
 "nbformat": 4,
 "nbformat_minor": 5
}
