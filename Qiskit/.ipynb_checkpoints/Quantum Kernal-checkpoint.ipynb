{
 "cells": [
  {
   "cell_type": "markdown",
   "id": "7c4bcf0a",
   "metadata": {},
   "source": [
    "Importing ZZFeatureMap"
   ]
  },
  {
   "cell_type": "code",
   "execution_count": 4,
   "id": "4de53faa",
   "metadata": {
    "scrolled": true
   },
   "outputs": [
    {
     "data": {
      "text/html": [
       "<pre style=\"word-wrap: normal;white-space: pre;background: #fff0;line-height: 1.1;font-family: &quot;Courier New&quot;,Courier,monospace\">     ┌───┐┌─────────────┐                                               »\n",
       "q_0: ┤ H ├┤ P(2.0*x[0]) ├──■────────────────────────────────────■────■──»\n",
       "     ├───┤├─────────────┤┌─┴─┐┌──────────────────────────────┐┌─┴─┐  │  »\n",
       "q_1: ┤ H ├┤ P(2.0*x[1]) ├┤ X ├┤ P(2.0*(π - x[0])*(π - x[1])) ├┤ X ├──┼──»\n",
       "     ├───┤├─────────────┤└───┘└──────────────────────────────┘└───┘┌─┴─┐»\n",
       "q_2: ┤ H ├┤ P(2.0*x[2]) ├──────────────────────────────────────────┤ X ├»\n",
       "     └───┘└─────────────┘                                          └───┘»\n",
       "«                                               »\n",
       "«q_0: ──────────────────────────────────■───────»\n",
       "«                                       │       »\n",
       "«q_1: ──────────────────────────────────┼────■──»\n",
       "«     ┌──────────────────────────────┐┌─┴─┐┌─┴─┐»\n",
       "«q_2: ┤ P(2.0*(π - x[0])*(π - x[2])) ├┤ X ├┤ X ├»\n",
       "«     └──────────────────────────────┘└───┘└───┘»\n",
       "«                                          \n",
       "«q_0: ─────────────────────────────────────\n",
       "«                                          \n",
       "«q_1: ──────────────────────────────────■──\n",
       "«     ┌──────────────────────────────┐┌─┴─┐\n",
       "«q_2: ┤ P(2.0*(π - x[1])*(π - x[2])) ├┤ X ├\n",
       "«     └──────────────────────────────┘└───┘</pre>"
      ],
      "text/plain": [
       "     ┌───┐┌─────────────┐                                               »\n",
       "q_0: ┤ H ├┤ P(2.0*x[0]) ├──■────────────────────────────────────■────■──»\n",
       "     ├───┤├─────────────┤┌─┴─┐┌──────────────────────────────┐┌─┴─┐  │  »\n",
       "q_1: ┤ H ├┤ P(2.0*x[1]) ├┤ X ├┤ P(2.0*(π - x[0])*(π - x[1])) ├┤ X ├──┼──»\n",
       "     ├───┤├─────────────┤└───┘└──────────────────────────────┘└───┘┌─┴─┐»\n",
       "q_2: ┤ H ├┤ P(2.0*x[2]) ├──────────────────────────────────────────┤ X ├»\n",
       "     └───┘└─────────────┘                                          └───┘»\n",
       "«                                               »\n",
       "«q_0: ──────────────────────────────────■───────»\n",
       "«                                       │       »\n",
       "«q_1: ──────────────────────────────────┼────■──»\n",
       "«     ┌──────────────────────────────┐┌─┴─┐┌─┴─┐»\n",
       "«q_2: ┤ P(2.0*(π - x[0])*(π - x[2])) ├┤ X ├┤ X ├»\n",
       "«     └──────────────────────────────┘└───┘└───┘»\n",
       "«                                          \n",
       "«q_0: ─────────────────────────────────────\n",
       "«                                          \n",
       "«q_1: ──────────────────────────────────■──\n",
       "«     ┌──────────────────────────────┐┌─┴─┐\n",
       "«q_2: ┤ P(2.0*(π - x[1])*(π - x[2])) ├┤ X ├\n",
       "«     └──────────────────────────────┘└───┘"
      ]
     },
     "execution_count": 4,
     "metadata": {},
     "output_type": "execute_result"
    }
   ],
   "source": [
    "from qiskit.circuit.library import ZZFeatureMap\n",
    "# 3 features, depth 1\n",
    "map_zz = ZZFeatureMap(feature_dimension=3, reps=1)\n",
    "map_zz.decompose().draw()"
   ]
  },
  {
   "cell_type": "markdown",
   "id": "b1311ee0",
   "metadata": {},
   "source": [
    "Creating dataset"
   ]
  },
  {
   "cell_type": "code",
   "execution_count": 7,
   "id": "7d892245",
   "metadata": {},
   "outputs": [],
   "source": [
    "from qiskit.utils import algorithm_globals\n",
    "algorithm_globals.random_seed = 12345\n",
    "\n",
    "from qiskit_machine_learning.datasets import ad_hoc_data\n",
    "train_data, train_labels, test_data, test_labels, sample_total = (\n",
    "    ad_hoc_data(training_size=20, test_size=5, n=2, gap=0.3,\n",
    "                include_sample_total=True, one_hot=False))"
   ]
  },
  {
   "cell_type": "markdown",
   "id": "1887f55f",
   "metadata": {},
   "source": [
    "Analytically calculating and plotting the kernel matrix for the training data points in the Qiskit adhoc dataset."
   ]
  },
  {
   "cell_type": "code",
   "execution_count": 10,
   "id": "54b12981",
   "metadata": {},
   "outputs": [
    {
     "data": {
      "image/png": "[encoded data removed]",
      "text/plain": [
       "<Figure size 360x360 with 1 Axes>"
      ]
     },
     "metadata": {
      "needs_background": "light"
     },
     "output_type": "display_data"
    }
   ],
   "source": [
    "from qiskit import opflow\n",
    "import numpy as np\n",
    "import matplotlib.pyplot as plt\n",
    "\n",
    "def calculate_kernel(feature_map, x_data, y_data=None):\n",
    "    \"\"\"\n",
    "        Calculates  kernel matrix from provided feature map and\n",
    "        dataset(s), x & (y). If y isn't given, self inner product\n",
    "        of x is calculated.\n",
    "        No error checking is performed, feature map and datasets\n",
    "        assumed to have the same dimension\n",
    "    \"\"\"\n",
    "    if y_data is None:\n",
    "        y_data = x_data\n",
    "    # Use Operator Flow to create a list of feature map circuits,\n",
    "    # parameterized by each data point\n",
    "    x_circuits = opflow.CircuitStateFn(feature_map).bind_parameters(\n",
    "        dict(zip(feature_map.parameters, np.transpose(x_data).tolist()))\n",
    "        )\n",
    "    y_circuits = opflow.CircuitStateFn(feature_map).bind_parameters(\n",
    "        dict(zip(feature_map.parameters, np.transpose(y_data).tolist()))\n",
    "        )\n",
    "    # Compute the square of the conjugate inner product of the feature\n",
    "    # map circuits: the kernel matrix\n",
    "    kernel = np.abs(\n",
    "        (~y_circuits.to_matrix_op() @ x_circuits.to_matrix_op()).eval()\n",
    "    )**2\n",
    "    return kernel\n",
    "\n",
    "adhoc_feature_map = ZZFeatureMap(feature_dimension=2, reps=2)\n",
    "kernel = calculate_kernel(adhoc_feature_map, train_data)\n",
    "plt.figure(figsize=(5, 5))\n",
    "plt.imshow(np.asmatrix(kernel),interpolation='nearest', origin='upper')\n",
    "plt.title(\"Analytical Kernel Matrix\")\n",
    "plt.show()"
   ]
  }
 ],
 "metadata": {
  "kernelspec": {
   "display_name": "Python 3 (ipykernel)",
   "language": "python",
   "name": "python3"
  },
  "language_info": {
   "codemirror_mode": {
    "name": "ipython",
    "version": 3
   },
   "file_extension": ".py",
   "mimetype": "text/x-python",
   "name": "python",
   "nbconvert_exporter": "python",
   "pygments_lexer": "ipython3",
   "version": "3.9.12"
  }
 },
 "nbformat": 4,
 "nbformat_minor": 5
}
