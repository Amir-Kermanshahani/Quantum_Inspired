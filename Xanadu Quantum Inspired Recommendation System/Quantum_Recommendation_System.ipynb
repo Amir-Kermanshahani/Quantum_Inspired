{
 "cells": [
  {
   "cell_type": "markdown",
   "id": "3a94de21",
   "metadata": {},
   "source": [
    "## 1.Importing Required Libraries"
   ]
  },
  {
   "cell_type": "code",
   "execution_count": null,
   "id": "8e7b95bb",
   "metadata": {
    "scrolled": true
   },
   "outputs": [],
   "source": [
    "import import_ipynb\n",
    "import quantum_inspired as qi\n",
    "import numpy as np\n",
    "import pandas as pd"
   ]
  },
  {
   "cell_type": "markdown",
   "id": "35d28271",
   "metadata": {},
   "source": [
    "## 2.loading the preference matrix A"
   ]
  },
  {
   "cell_type": "code",
   "execution_count": null,
   "id": "a8c86bd2",
   "metadata": {},
   "outputs": [],
   "source": [
    "# load a preference matrix A of dimension m x n encoding the rates\n",
    "A = np.load('Netflix_Movies.npy')"
   ]
  },
  {
   "cell_type": "code",
   "execution_count": null,
   "id": "296df72e",
   "metadata": {
    "scrolled": true
   },
   "outputs": [],
   "source": [
    "import sys\n",
    "np.set_printoptions(threshold=1000)"
   ]
  },
  {
   "cell_type": "markdown",
   "id": "97a64ec5",
   "metadata": {},
   "source": [
    "## 3.Users setting"
   ]
  },
  {
   "cell_type": "code",
   "execution_count": null,
   "id": "daf5b00d",
   "metadata": {},
   "outputs": [],
   "source": [
    "# In this example we want to reconstruct the full row of matrix A corresponding\n",
    "# to a specific user (416 in this case) and use highest components of the\n",
    "# reconstructed row vector to recommend new movies\n",
    "user = 5"
   ]
  },
  {
   "cell_type": "markdown",
   "id": "ca6cbb63",
   "metadata": {},
   "source": [
    "## 4. Low-Rank approximation"
   ]
  },
  {
   "cell_type": "code",
   "execution_count": null,
   "id": "e3aadb0b",
   "metadata": {},
   "outputs": [],
   "source": [
    "# low-rank approximation\n",
    "rank = 10\n",
    "# Input parameters for the quantum inspired algorithm\n",
    "r = 50\n",
    "c = 450\n",
    "Nsamples = 10\n",
    "NcompX = 10\n",
    "sampled_comp, x = qi.recomm_syst(A, user, r, c, rank, Nsamples, NcompX)"
   ]
  },
  {
   "cell_type": "code",
   "execution_count": null,
   "id": "a31bad61",
   "metadata": {
    "scrolled": false
   },
   "outputs": [],
   "source": [
    "print(sampled_comp)"
   ]
  },
  {
   "cell_type": "code",
   "execution_count": null,
   "id": "5e0107dc",
   "metadata": {},
   "outputs": [],
   "source": [
    "print(x)"
   ]
  },
  {
   "cell_type": "code",
   "execution_count": null,
   "id": "00e113c2",
   "metadata": {
    "scrolled": true
   },
   "outputs": [],
   "source": [
    "movie_titles = pd.read_csv('C:/Users/98901/Xanadu/Netflix_Data/movie_titles.csv', usecols=range(3), lineterminator='\\n', header=None, names = ['movie_id', 'movie_date', 'movie_title'])\n",
    "\n",
    "recommended_movies = movie_titles[movie_titles['movie_id'].isin(sampled_comp)]\n",
    "\n",
    "recommended_movies.head(10)"
   ]
  }
 ],
 "metadata": {
  "kernelspec": {
   "display_name": "Python 3 (ipykernel)",
   "language": "python",
   "name": "python3"
  },
  "language_info": {
   "codemirror_mode": {
    "name": "ipython",
    "version": 3
   },
   "file_extension": ".py",
   "mimetype": "text/x-python",
   "name": "python",
   "nbconvert_exporter": "python",
   "pygments_lexer": "ipython3",
   "version": "3.9.13"
  }
 },
 "nbformat": 4,
 "nbformat_minor": 5
}
