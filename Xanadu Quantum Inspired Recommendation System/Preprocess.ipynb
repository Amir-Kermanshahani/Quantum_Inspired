{
 "cells": [
  {
   "cell_type": "markdown",
   "id": "c5d4edbc",
   "metadata": {},
   "source": [
    "## 1.Importing Libraries"
   ]
  },
  {
   "cell_type": "code",
   "execution_count": 1,
   "id": "15ac6362",
   "metadata": {},
   "outputs": [],
   "source": [
    "import numpy as np\n",
    "import pandas as pd\n",
    "import os"
   ]
  },
  {
   "cell_type": "markdown",
   "id": "6cda41c2",
   "metadata": {},
   "source": [
    "## 2. Creating Data File\n",
    "Creating a single data.csv file out of four parts of netflix training dataset."
   ]
  },
  {
   "cell_type": "code",
   "execution_count": null,
   "id": "4bd8f062",
   "metadata": {},
   "outputs": [],
   "source": [
    "if not os.path.isfile('data.csv'):\n",
    "    #read all txt file and store them in one big file\n",
    "    data = open('data.csv', mode='w')\n",
    "    \n",
    "    row = list()\n",
    "    files = ['./Netflix_Data/combined_data_1.txt', './Netflix_Data/combined_data_2.txt',\n",
    "            './Netflix_Data/combined_data_3.txt', './Netflix_Data/combined_data_4.txt']\n",
    "    for file in files:\n",
    "        print('reading ratings from {}...'.format(file))\n",
    "        with open(file) as f:\n",
    "            for line in f:\n",
    "                del row[:]\n",
    "                line = line.strip()\n",
    "                if line.endswith(':'):\n",
    "                    #all are rating\n",
    "                    movid_id = line.replace(':', '')\n",
    "                else:\n",
    "                    row = [x for x in line.split(',')]\n",
    "                    row.insert(0, movid_id)\n",
    "                    data.write(','.join(row))\n",
    "                    data.write('\\n')\n",
    "    data.close()"
   ]
  },
  {
   "cell_type": "markdown",
   "id": "17dd7baa",
   "metadata": {},
   "source": [
    "## 3. Creating Pandas Data Frame\n",
    "Creating a Pandas datafram from data.csv file"
   ]
  },
  {
   "cell_type": "code",
   "execution_count": 12,
   "id": "7636cb38",
   "metadata": {},
   "outputs": [],
   "source": [
    "df = pd.read_csv('data.csv', sep=',', names=['movie','user','rating', 'date']).iloc[:1000]"
   ]
  },
  {
   "cell_type": "code",
   "execution_count": 13,
   "id": "713465e2",
   "metadata": {},
   "outputs": [],
   "source": [
    "users = df['user'].max()\n",
    "movies = df['movie'].max()\n",
    "A = pd.DataFrame(0, index=range(5),columns=range(movies))"
   ]
  },
  {
   "cell_type": "code",
   "execution_count": 14,
   "id": "d3232855",
   "metadata": {},
   "outputs": [
    {
     "data": {
      "text/plain": [
       "(1000, 4)"
      ]
     },
     "execution_count": 14,
     "metadata": {},
     "output_type": "execute_result"
    }
   ],
   "source": [
    "df.shape"
   ]
  },
  {
   "cell_type": "code",
   "execution_count": 15,
   "id": "b7695d28",
   "metadata": {
    "scrolled": true
   },
   "outputs": [
    {
     "data": {
      "text/plain": [
       "(5, 3)"
      ]
     },
     "execution_count": 15,
     "metadata": {},
     "output_type": "execute_result"
    }
   ],
   "source": [
    "A.shape"
   ]
  },
  {
   "cell_type": "markdown",
   "id": "ddc977d5",
   "metadata": {},
   "source": [
    "## 4. Creating Preference Matrix (A) Data Frame"
   ]
  },
  {
   "cell_type": "code",
   "execution_count": 17,
   "id": "bf9702d9",
   "metadata": {
    "scrolled": false
   },
   "outputs": [
    {
     "data": {
      "text/html": [
       "<div>\n",
       "<style scoped>\n",
       "    .dataframe tbody tr th:only-of-type {\n",
       "        vertical-align: middle;\n",
       "    }\n",
       "\n",
       "    .dataframe tbody tr th {\n",
       "        vertical-align: top;\n",
       "    }\n",
       "\n",
       "    .dataframe thead th {\n",
       "        text-align: right;\n",
       "    }\n",
       "</style>\n",
       "<table border=\"1\" class=\"dataframe\">\n",
       "  <thead>\n",
       "    <tr style=\"text-align: right;\">\n",
       "      <th></th>\n",
       "      <th>0</th>\n",
       "      <th>1</th>\n",
       "      <th>2</th>\n",
       "    </tr>\n",
       "  </thead>\n",
       "  <tbody>\n",
       "    <tr>\n",
       "      <th>0</th>\n",
       "      <td>0.0</td>\n",
       "      <td>0.0</td>\n",
       "      <td>0.0</td>\n",
       "    </tr>\n",
       "    <tr>\n",
       "      <th>1</th>\n",
       "      <td>0.0</td>\n",
       "      <td>0.0</td>\n",
       "      <td>0.0</td>\n",
       "    </tr>\n",
       "    <tr>\n",
       "      <th>2</th>\n",
       "      <td>0.0</td>\n",
       "      <td>0.0</td>\n",
       "      <td>0.0</td>\n",
       "    </tr>\n",
       "    <tr>\n",
       "      <th>3</th>\n",
       "      <td>0.0</td>\n",
       "      <td>0.0</td>\n",
       "      <td>0.0</td>\n",
       "    </tr>\n",
       "    <tr>\n",
       "      <th>4</th>\n",
       "      <td>0.0</td>\n",
       "      <td>0.0</td>\n",
       "      <td>0.0</td>\n",
       "    </tr>\n",
       "    <tr>\n",
       "      <th>...</th>\n",
       "      <td>...</td>\n",
       "      <td>...</td>\n",
       "      <td>...</td>\n",
       "    </tr>\n",
       "    <tr>\n",
       "      <th>1001778</th>\n",
       "      <td>4.0</td>\n",
       "      <td>NaN</td>\n",
       "      <td>NaN</td>\n",
       "    </tr>\n",
       "    <tr>\n",
       "      <th>2093104</th>\n",
       "      <td>3.0</td>\n",
       "      <td>NaN</td>\n",
       "      <td>NaN</td>\n",
       "    </tr>\n",
       "    <tr>\n",
       "      <th>1123958</th>\n",
       "      <td>3.0</td>\n",
       "      <td>NaN</td>\n",
       "      <td>NaN</td>\n",
       "    </tr>\n",
       "    <tr>\n",
       "      <th>1876296</th>\n",
       "      <td>5.0</td>\n",
       "      <td>NaN</td>\n",
       "      <td>NaN</td>\n",
       "    </tr>\n",
       "    <tr>\n",
       "      <th>1364480</th>\n",
       "      <td>4.0</td>\n",
       "      <td>NaN</td>\n",
       "      <td>NaN</td>\n",
       "    </tr>\n",
       "  </tbody>\n",
       "</table>\n",
       "<p>500 rows × 3 columns</p>\n",
       "</div>"
      ],
      "text/plain": [
       "           0    1    2\n",
       "0        0.0  0.0  0.0\n",
       "1        0.0  0.0  0.0\n",
       "2        0.0  0.0  0.0\n",
       "3        0.0  0.0  0.0\n",
       "4        0.0  0.0  0.0\n",
       "...      ...  ...  ...\n",
       "1001778  4.0  NaN  NaN\n",
       "2093104  3.0  NaN  NaN\n",
       "1123958  3.0  NaN  NaN\n",
       "1876296  5.0  NaN  NaN\n",
       "1364480  4.0  NaN  NaN\n",
       "\n",
       "[500 rows x 3 columns]"
      ]
     },
     "execution_count": 17,
     "metadata": {},
     "output_type": "execute_result"
    }
   ],
   "source": [
    "for index, row in df.iterrows():\n",
    "    \n",
    "    user_id = row['user']\n",
    "    movie_id = row['movie']\n",
    "    rating = row['rating']\n",
    "    \n",
    "    A.loc[user_id - 1, movie_id - 1] = rating\n",
    "        \n",
    "A.head(500)"
   ]
  },
  {
   "cell_type": "code",
   "execution_count": 18,
   "id": "0ffdb152",
   "metadata": {},
   "outputs": [
    {
     "data": {
      "text/plain": [
       "(993, 3)"
      ]
     },
     "execution_count": 18,
     "metadata": {},
     "output_type": "execute_result"
    }
   ],
   "source": [
    "A.shape"
   ]
  },
  {
   "cell_type": "code",
   "execution_count": 19,
   "id": "bfbc1c16",
   "metadata": {},
   "outputs": [],
   "source": [
    "A = A.to_numpy(na_value=0)"
   ]
  },
  {
   "cell_type": "code",
   "execution_count": 20,
   "id": "890b1def",
   "metadata": {},
   "outputs": [],
   "source": [
    "A = A[~np.all(A == 0, axis=1)]"
   ]
  },
  {
   "cell_type": "code",
   "execution_count": 21,
   "id": "828cb9e3",
   "metadata": {},
   "outputs": [
    {
     "data": {
      "text/plain": [
       "(988, 3)"
      ]
     },
     "execution_count": 21,
     "metadata": {},
     "output_type": "execute_result"
    }
   ],
   "source": [
    "A.shape"
   ]
  },
  {
   "cell_type": "code",
   "execution_count": 22,
   "id": "80a9edbe",
   "metadata": {},
   "outputs": [],
   "source": [
    "np.save('Netflix_Movies', A)"
   ]
  }
 ],
 "metadata": {
  "kernelspec": {
   "display_name": "Python 3 (ipykernel)",
   "language": "python",
   "name": "python3"
  },
  "language_info": {
   "codemirror_mode": {
    "name": "ipython",
    "version": 3
   },
   "file_extension": ".py",
   "mimetype": "text/x-python",
   "name": "python",
   "nbconvert_exporter": "python",
   "pygments_lexer": "ipython3",
   "version": "3.9.13"
  }
 },
 "nbformat": 4,
 "nbformat_minor": 5
}
