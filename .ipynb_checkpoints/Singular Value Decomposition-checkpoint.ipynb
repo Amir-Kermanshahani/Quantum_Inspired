{
 "cells": [
  {
   "cell_type": "markdown",
   "id": "01dda675",
   "metadata": {},
   "source": [
    "# Singular Value Decomposition (Image Compression)\n",
    "\n",
    "Decomposing input image matrix X as X=U S VT and approximate it to a rank-r approximation of X\n",
    "\n",
    "This program can use images in the JPEG, PNG, TIFF, and GIF format."
   ]
  },
  {
   "cell_type": "code",
   "execution_count": null,
   "id": "2bd9f894",
   "metadata": {
    "scrolled": true
   },
   "outputs": [],
   "source": [
    "# Importing the required libraries and funtions\n",
    "\n",
    "from matplotlib.image import imread\n",
    "import matplotlib.pyplot as plt\n",
    "import numpy as np\n",
    "import os\n",
    "from tkinter import *\n",
    "from tkinter import filedialog\n",
    "import cv2"
   ]
  },
  {
   "cell_type": "code",
   "execution_count": null,
   "id": "5b3e3854",
   "metadata": {
    "scrolled": false
   },
   "outputs": [],
   "source": [
    "# Getting the configuration from user using GUI\n",
    "\n",
    "def Configure():\n",
    "    \n",
    "    filepath = filedialog.askopenfilename()\n",
    "    global A\n",
    "    A = cv2.imread(filepath,cv2.IMREAD_GRAYSCALE)\n",
    "    \n",
    "    #Setting the desired rank\n",
    "    global r\n",
    "    r =rank.get()\n",
    "\n",
    "    window.destroy()\n",
    "\n",
    "window = Tk()\n",
    "window.title('Configuration')\n",
    "window.geometry('300x300')\n",
    "\n",
    "rank_label=StringVar()\n",
    "rank_label.set(\"Enter your desired rank: \")\n",
    "rank_label=Label(window, textvariable=rank_label, height=1)\n",
    "rank_label.pack(pady=30)\n",
    "\n",
    "rank=Entry(window,width=10)\n",
    "rank.pack()\n",
    "\n",
    "button = Button(text=\"Choose your file\",height=10, width=20, bg='#9B00B3', fg='White',command=Configure)\n",
    "button.pack(pady=50)\n",
    "window.mainloop()"
   ]
  },
  {
   "cell_type": "code",
   "execution_count": null,
   "id": "7fbbca6e",
   "metadata": {
    "scrolled": true
   },
   "outputs": [],
   "source": [
    "#Calculating SVD of the image\n",
    "\n",
    "#Calculating the Economy SVD (Rank-r)\n",
    "U, S, VT = np.linalg.svd(A,full_matrices=False)\n",
    "r = int(r)\n",
    "\n",
    "#Extracting diagnolan matrix from Singular Values matrix S\n",
    "S = np.diag(S)\n",
    "\n",
    "j=0\n",
    "for i in range(r):\n",
    "    #Constructing approximate image\n",
    "    Aapprox = U[:,:r] @ S[0:r,:r] @ VT[:r,:]\n",
    "    img = plt.imshow(Aapprox)\n",
    "    plt.axis('off')\n",
    "    plt.title('rank-'+str(r)+' approximation')\n"
   ]
  },
  {
   "cell_type": "code",
   "execution_count": null,
   "id": "ae6e144d",
   "metadata": {
    "scrolled": false
   },
   "outputs": [],
   "source": [
    "plt.figure(1)\n",
    "plt.semilogy(np.diag(S))\n",
    "plt.title(\"Singular Values\")\n",
    "plt.show()\n",
    "\n",
    "plt.figure(2)\n",
    "plt.plot(np.cumsum(np.diag(S))/np.sum(np.diag(S)))\n",
    "plt.title(\"Singular Values: Cumulative Sum\")\n",
    "plt.show()"
   ]
  }
 ],
 "metadata": {
  "kernelspec": {
   "display_name": "Python 3 (ipykernel)",
   "language": "python",
   "name": "python3"
  },
  "language_info": {
   "codemirror_mode": {
    "name": "ipython",
    "version": 3
   },
   "file_extension": ".py",
   "mimetype": "text/x-python",
   "name": "python",
   "nbconvert_exporter": "python",
   "pygments_lexer": "ipython3",
   "version": "3.9.12"
  }
 },
 "nbformat": 4,
 "nbformat_minor": 5
}
